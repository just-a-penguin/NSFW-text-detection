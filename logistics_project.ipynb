{
  "nbformat": 4,
  "nbformat_minor": 0,
  "metadata": {
    "colab": {
      "provenance": [],
      "gpuType": "T4"
    },
    "kernelspec": {
      "name": "python3",
      "display_name": "Python 3"
    },
    "language_info": {
      "name": "python"
    },
    "accelerator": "GPU"
  },
  "cells": [
    {
      "cell_type": "markdown",
      "source": [
        "nikita"
      ],
      "metadata": {
        "id": "_4G3T7fdE4S2"
      }
    },
    {
      "cell_type": "code",
      "source": [
        "import matplotlib.pyplot as plt\n",
        "import nltk\n",
        "import numpy as np\n",
        "import pandas as pd\n",
        "import seaborn as sns\n",
        "import re\n",
        "from nltk.corpus import stopwords\n",
        "from nltk.stem import WordNetLemmatizer\n",
        "from sklearn.feature_extraction.text import CountVectorizer\n",
        "import matplotlib.pyplot as plt\n",
        "import seaborn as sns\n",
        "import nltk\n",
        "nltk.download('stopwords')\n",
        "nltk.download('wordnet')\n",
        "%matplotlib notebook\n",
        "from sklearn.linear_model import LogisticRegression\n",
        "import sklearn.model_selection\n",
        "import sklearn.preprocessing as preproc\n",
        "from sklearn.feature_extraction import text\n",
        "from sklearn.metrics import confusion_matrix\n",
        "from sklearn.metrics import precision_score\n",
        "from sklearn.metrics import recall_score\n",
        "from sklearn.metrics import accuracy_score\n",
        "import pickle\n",
        "import warnings\n",
        "import gdown\n",
        "warnings.filterwarnings(\"ignore\")"
      ],
      "metadata": {
        "colab": {
          "base_uri": "https://localhost:8080/"
        },
        "id": "o67v-CWwF3Q6",
        "outputId": "1be0758d-43e6-4fd2-fcb3-b25ec336b44c"
      },
      "execution_count": 1,
      "outputs": [
        {
          "output_type": "stream",
          "name": "stderr",
          "text": [
            "[nltk_data] Downloading package stopwords to /root/nltk_data...\n",
            "[nltk_data]   Unzipping corpora/stopwords.zip.\n",
            "[nltk_data] Downloading package wordnet to /root/nltk_data...\n"
          ]
        }
      ]
    },
    {
      "cell_type": "code",
      "source": [
        "url = \"https://drive.google.com/file/d/1wF_i-hjgcy3DIKzudYDd3FPsGm8HDDXx/view?usp=sharing\"\n",
        "file_id = url.split(\"/\")[-2]\n",
        "download_url = f\"https://drive.google.com/uc?id={file_id}\"\n",
        "output_file = \"dataset.csv\"\n",
        "gdown.download(download_url, output_file, quiet=False)\n",
        "df = pd.read_csv(output_file)"
      ],
      "metadata": {
        "colab": {
          "base_uri": "https://localhost:8080/"
        },
        "id": "DQmnPU0oF6H3",
        "outputId": "534128b5-0a29-43a5-dd7d-04e0f223b3f7"
      },
      "execution_count": 2,
      "outputs": [
        {
          "output_type": "stream",
          "name": "stderr",
          "text": [
            "Downloading...\n",
            "From: https://drive.google.com/uc?id=14KMSPZZGQ25TDcYSLW722dKHmOOl-ObB\n",
            "To: /content/dataset.csv\n",
            "100%|██████████| 54.3M/54.3M [00:00<00:00, 165MB/s]\n"
          ]
        }
      ]
    },
    {
      "cell_type": "code",
      "source": [
        "df.shape"
      ],
      "metadata": {
        "colab": {
          "base_uri": "https://localhost:8080/"
        },
        "id": "1yzphS6bBk5O",
        "outputId": "1aa80793-4aa5-4e1d-82f7-c0b54c1fb7f0"
      },
      "execution_count": 3,
      "outputs": [
        {
          "output_type": "execute_result",
          "data": {
            "text/plain": [
              "(100000, 18)"
            ]
          },
          "metadata": {},
          "execution_count": 3
        }
      ]
    },
    {
      "cell_type": "code",
      "execution_count": 4,
      "metadata": {
        "id": "6f1nW8cZ_rse"
      },
      "outputs": [],
      "source": [
        "training_data, test_data = sklearn.model_selection.train_test_split(df, test_size = 0.2, random_state=42)\n",
        "\n",
        "bow_transform = CountVectorizer(tokenizer=lambda doc: doc, ngram_range=(3,3), lowercase=False)\n",
        "\n",
        "X_tr_bow = bow_transform.fit_transform(training_data['comment_text'])\n",
        "X_te_bow = bow_transform.transform(test_data['comment_text'])\n",
        "y_tr = training_data['target']\n",
        "y_te = test_data['target']\n",
        "\n",
        "tfidf_transform = text.TfidfTransformer(norm=None)\n",
        "\n",
        "X_tr_tfidf = tfidf_transform.fit_transform(X_tr_bow)\n",
        "X_te_tfidf = tfidf_transform.transform(X_te_bow)"
      ]
    },
    {
      "cell_type": "code",
      "source": [
        "y_tr = (y_tr > 0).astype(int)\n",
        "y_te = (y_te > 0).astype(int)"
      ],
      "metadata": {
        "id": "pI2kSnOD4rEK"
      },
      "execution_count": 5,
      "outputs": []
    },
    {
      "cell_type": "code",
      "source": [
        "# from sklearn.metrics import confusion_matrix, precision_score, recall_score, f1_score, accuracy_score\n",
        "# from sklearn.metrics import accuracy_score, classification_report\n",
        "\n",
        "# def simple_logistic_classify(X_tr, y_tr, X_test, y_test, description, _C=1.0):\n",
        "#     model = LogisticRegression().fit(X_tr, y_tr)\n",
        "#     y_pred = model.predict(X_test)\n",
        "#     score = accuracy_score(y_test, y_pred)\n",
        "\n",
        "#     accuracy_tfidf = accuracy_score(y_test, y_pred)\n",
        "#     print(\"Accuracy (TF-IDF):\", accuracy_tfidf)\n",
        "#     print(classification_report(y_test, y_pred))\n",
        "#     return model\n",
        "\n",
        "# model_bow = simple_logistic_classify(X_tr_bow, y_tr, X_te_bow, y_te, 'BOW')\n",
        "# model_tfidf = simple_logistic_classify(X_tr_tfidf, y_tr, X_te_tfidf, y_te, 'TF-IDF')"
      ],
      "metadata": {
        "id": "0nZ4Wt4lFBzD",
        "colab": {
          "base_uri": "https://localhost:8080/"
        },
        "outputId": "9ffbc6f4-f3b2-4208-a668-06dd2ef1af83"
      },
      "execution_count": 6,
      "outputs": [
        {
          "output_type": "stream",
          "name": "stdout",
          "text": [
            "Accuracy (TF-IDF): 0.81585\n",
            "              precision    recall  f1-score   support\n",
            "\n",
            "           0       0.75      0.77      0.76      7653\n",
            "           1       0.86      0.84      0.85     12347\n",
            "\n",
            "    accuracy                           0.82     20000\n",
            "   macro avg       0.80      0.81      0.81     20000\n",
            "weighted avg       0.82      0.82      0.82     20000\n",
            "\n",
            "Accuracy (TF-IDF): 0.8276\n",
            "              precision    recall  f1-score   support\n",
            "\n",
            "           0       0.76      0.80      0.78      7653\n",
            "           1       0.87      0.84      0.86     12347\n",
            "\n",
            "    accuracy                           0.83     20000\n",
            "   macro avg       0.82      0.82      0.82     20000\n",
            "weighted avg       0.83      0.83      0.83     20000\n",
            "\n"
          ]
        }
      ]
    },
    {
      "cell_type": "code",
      "source": [
        "from sklearn.model_selection import GridSearchCV\n",
        "from sklearn.linear_model import LogisticRegression\n",
        "from sklearn.metrics import accuracy_score, classification_report\n",
        "\n",
        "def simple_logistic_classify(X_tr, y_tr, X_test, y_test, description, _C=1.0):\n",
        "    # Define the logistic regression model\n",
        "    model = LogisticRegression(C=_C)\n",
        "\n",
        "    # Define the parameter grid for grid search\n",
        "    param_grid = {'C': [0.01, 0.1, 1]}\n",
        "\n",
        "    # Create the GridSearchCV object\n",
        "    grid_search = GridSearchCV(model, param_grid, cv=3, scoring='accuracy')\n",
        "\n",
        "    # Fit the grid search to the data\n",
        "    grid_search.fit(X_tr, y_tr)\n",
        "\n",
        "    # Get the best model from the grid search\n",
        "    best_model = grid_search.best_estimator_\n",
        "\n",
        "    # Predict on the test set using the best model\n",
        "    y_pred = best_model.predict(X_test)\n",
        "\n",
        "    # Print the accuracy and classification report\n",
        "    accuracy_tfidf = accuracy_score(y_test, y_pred)\n",
        "    print(\"Best hyperparameter (C) found:\", grid_search.best_params_)\n",
        "    print(\"Accuracy :\", accuracy_tfidf)\n",
        "    print(classification_report(y_test, y_pred))\n",
        "\n",
        "    return best_model\n",
        "\n",
        "# Apply grid search for finding the best C for BOW\n",
        "model_bow = simple_logistic_classify(X_tr_bow, y_tr, X_te_bow, y_te, 'BOW')\n",
        "\n",
        "# Apply grid search for finding the best C for TF-IDF\n",
        "model_tfidf = simple_logistic_classify(X_tr_tfidf, y_tr, X_te_tfidf, y_te, 'TF-IDF')\n"
      ],
      "metadata": {
        "colab": {
          "base_uri": "https://localhost:8080/"
        },
        "id": "vpeYRcuiLdg9",
        "outputId": "01541fa8-9d86-4eb1-8419-a859d2302037"
      },
      "execution_count": 7,
      "outputs": [
        {
          "output_type": "stream",
          "name": "stdout",
          "text": [
            "Best hyperparameter (C) found: {'C': 1}\n",
            "Accuracy (TF-IDF): 0.81585\n",
            "              precision    recall  f1-score   support\n",
            "\n",
            "           0       0.75      0.77      0.76      7653\n",
            "           1       0.86      0.84      0.85     12347\n",
            "\n",
            "    accuracy                           0.82     20000\n",
            "   macro avg       0.80      0.81      0.81     20000\n",
            "weighted avg       0.82      0.82      0.82     20000\n",
            "\n",
            "Best hyperparameter (C) found: {'C': 0.01}\n",
            "Accuracy (TF-IDF): 0.82985\n",
            "              precision    recall  f1-score   support\n",
            "\n",
            "           0       0.77      0.80      0.78      7653\n",
            "           1       0.87      0.85      0.86     12347\n",
            "\n",
            "    accuracy                           0.83     20000\n",
            "   macro avg       0.82      0.82      0.82     20000\n",
            "weighted avg       0.83      0.83      0.83     20000\n",
            "\n"
          ]
        }
      ]
    }
  ]
}